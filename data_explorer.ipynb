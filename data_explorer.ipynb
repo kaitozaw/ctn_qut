{
 "cells": [
  {
   "cell_type": "code",
   "execution_count": 25,
   "id": "29d74295",
   "metadata": {},
   "outputs": [],
   "source": [
    "import json"
   ]
  },
  {
   "cell_type": "code",
   "execution_count": null,
   "id": "2b5b6bfe",
   "metadata": {},
   "outputs": [
    {
     "name": "stdout",
     "output_type": "stream",
     "text": [
      "fields in json: data\n",
      "fields in json: paging\n",
      "\n",
      "json[\"paging\"]:  {'has_next': True, 'has_previous': False, 'next_cursor': 'Z0FBQUFBQm96OTJQeF9jRnM0ZlY0LWRGNVluMGZrZDU5Ujg4Snd3cmdEUXYxSlFxTFEzYmhXNm9NLUNwU0hMbDlUX0lWRkxZTDhKVUZqV1ZqOTlpVEQ2NHI0M2pvMUtyV0M2RTltMU50dW5xci1GMUdJdGN6SUE9', 'previous_cursor': None}\n",
      "\n",
      "len(json[\"data\"]):  20\n",
      "\n",
      "json[\"data\"][0]:  {'author': {'avatar_url': 'https://api.dicebear.com/9.x/identicon/svg?seed=marco.wong', 'bio': '', 'created_at': '2025-09-19T10:03:53.763584Z', 'display_name': 'Marco Wong', 'followed': False, 'follower_count': 92, 'following_count': 0, 'id': 1076, 'username': 'marco.wong', 'verified': False}, 'content': 'Fishermen bracing for hardship! Ministry announces 6-week snapper quota as tourism booms! Tough times ahead for our coastal communities! #KingstonDaily #Fisheries #TourismImpact', 'created_at': '2025-09-21T05:50:45.639106Z', 'deleted': False, 'deleted_at': None, 'embed': None, 'id': 222680, 'like_count': 93, 'liked': False, 'media': None, 'parent_id': None, 'reply_count': 150, 'reported': False, 'repost_count': 71, 'reposted': False, 'tags': [{'name': 'TourismImpact', 'recent_post_count': 2, 'trending': False}, {'name': 'KingstonDaily', 'recent_post_count': 193, 'trending': True}], 'type': 'post'}\n"
     ]
    }
   ],
   "source": [
    "with open('trending.json', \"r\", encoding=\"utf-8\") as json_data:\n",
    "  di = json.load(json_data)\n",
    "\n",
    "for i in di:\n",
    "    print(\"fields in json:\",i)\n",
    "print()\n",
    "print(\"json[\\\"paging\\\"]: \",di[\"paging\"])\n",
    "print()\n",
    "print(\"len(json[\\\"data\\\"]): \",len(di[\"data\"]))\n",
    "print()\n",
    "print(\"json[\\\"data\\\"][0]: \",di[\"data\"][0])"
   ]
  },
  {
   "cell_type": "code",
   "execution_count": 24,
   "id": "a553f410",
   "metadata": {},
   "outputs": [
    {
     "data": {
      "text/plain": [
       "{'has_next': True,\n",
       " 'has_previous': False,\n",
       " 'next_cursor': 'Z0FBQUFBQm96OTJQeF9jRnM0ZlY0LWRGNVluMGZrZDU5Ujg4Snd3cmdEUXYxSlFxTFEzYmhXNm9NLUNwU0hMbDlUX0lWRkxZTDhKVUZqV1ZqOTlpVEQ2NHI0M2pvMUtyV0M2RTltMU50dW5xci1GMUdJdGN6SUE9',\n",
       " 'previous_cursor': None}"
      ]
     },
     "execution_count": 24,
     "metadata": {},
     "output_type": "execute_result"
    }
   ],
   "source": [
    "di[\"paging\"]"
   ]
  },
  {
   "cell_type": "code",
   "execution_count": 23,
   "id": "25e3f00c",
   "metadata": {},
   "outputs": [
    {
     "data": {
      "text/plain": [
       "{'author': {'avatar_url': 'https://api.dicebear.com/9.x/identicon/svg?seed=marco.wong',\n",
       "  'bio': '',\n",
       "  'created_at': '2025-09-19T10:03:53.763584Z',\n",
       "  'display_name': 'Marco Wong',\n",
       "  'followed': False,\n",
       "  'follower_count': 92,\n",
       "  'following_count': 0,\n",
       "  'id': 1076,\n",
       "  'username': 'marco.wong',\n",
       "  'verified': False},\n",
       " 'content': 'Fishermen bracing for hardship! Ministry announces 6-week snapper quota as tourism booms! Tough times ahead for our coastal communities! #KingstonDaily #Fisheries #TourismImpact',\n",
       " 'created_at': '2025-09-21T05:50:45.639106Z',\n",
       " 'deleted': False,\n",
       " 'deleted_at': None,\n",
       " 'embed': None,\n",
       " 'id': 222680,\n",
       " 'like_count': 93,\n",
       " 'liked': False,\n",
       " 'media': None,\n",
       " 'parent_id': None,\n",
       " 'reply_count': 150,\n",
       " 'reported': False,\n",
       " 'repost_count': 71,\n",
       " 'reposted': False,\n",
       " 'tags': [{'name': 'TourismImpact', 'recent_post_count': 2, 'trending': False},\n",
       "  {'name': 'KingstonDaily', 'recent_post_count': 193, 'trending': True}],\n",
       " 'type': 'post'}"
      ]
     },
     "execution_count": 23,
     "metadata": {},
     "output_type": "execute_result"
    }
   ],
   "source": [
    "di[\"data\"][0]"
   ]
  },
  {
   "cell_type": "code",
   "execution_count": 27,
   "id": "d5832177",
   "metadata": {},
   "outputs": [],
   "source": [
    "with open('trending_all.json', \"r\", encoding=\"utf-8\") as json_data:\n",
    "  all = json.load(json_data)"
   ]
  },
  {
   "cell_type": "code",
   "execution_count": 31,
   "id": "99a1ae93",
   "metadata": {},
   "outputs": [
    {
     "data": {
      "text/plain": [
       "39"
      ]
     },
     "execution_count": 31,
     "metadata": {},
     "output_type": "execute_result"
    }
   ],
   "source": [
    "len(all[\"data\"])"
   ]
  },
  {
   "cell_type": "code",
   "execution_count": 29,
   "id": "f898a93d",
   "metadata": {},
   "outputs": [
    {
     "data": {
      "text/plain": [
       "39"
      ]
     },
     "execution_count": 29,
     "metadata": {},
     "output_type": "execute_result"
    }
   ],
   "source": [
    "all[\"total_unique_items\"]"
   ]
  }
 ],
 "metadata": {
  "kernelspec": {
   "display_name": ".venv",
   "language": "python",
   "name": "python3"
  },
  "language_info": {
   "codemirror_mode": {
    "name": "ipython",
    "version": 3
   },
   "file_extension": ".py",
   "mimetype": "text/x-python",
   "name": "python",
   "nbconvert_exporter": "python",
   "pygments_lexer": "ipython3",
   "version": "3.13.5"
  }
 },
 "nbformat": 4,
 "nbformat_minor": 5
}
